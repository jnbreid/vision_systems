{
  "nbformat": 4,
  "nbformat_minor": 0,
  "metadata": {
    "colab": {
      "provenance": []
    },
    "kernelspec": {
      "name": "python3",
      "display_name": "Python 3"
    },
    "language_info": {
      "name": "python"
    }
  },
  "cells": [
    {
      "cell_type": "code",
      "execution_count": 2,
      "metadata": {
        "colab": {
          "base_uri": "https://localhost:8080/"
        },
        "id": "lbRg2M5p6UAw",
        "outputId": "ce5bd4fd-89a4-4dae-c10e-d8b69e4e4260"
      },
      "outputs": [
        {
          "output_type": "stream",
          "name": "stdout",
          "text": [
            "Mounted at /content/drive\n"
          ]
        }
      ],
      "source": [
        "from google.colab import drive\n",
        "drive.mount('/content/drive')"
      ]
    },
    {
      "cell_type": "code",
      "source": [
        "!mkdir utils"
      ],
      "metadata": {
        "id": "FGaXGKuMNpO8"
      },
      "execution_count": 1,
      "outputs": []
    },
    {
      "cell_type": "code",
      "source": [
        "#import torch\n",
        "\n",
        "from utils.dataset_utils import Human36\n",
        "from model_architecture import MotionMixerCNN\n",
        "from utils.utils import model_params, smooth, save_model, load_model, set_random_seed"
      ],
      "metadata": {
        "id": "ARjCGd7eJbu6"
      },
      "execution_count": 3,
      "outputs": []
    },
    {
      "cell_type": "markdown",
      "source": [
        "### Initialize Dataset"
      ],
      "metadata": {
        "id": "4NQ_BsW0LRh6"
      }
    },
    {
      "cell_type": "code",
      "source": [
        "path = '/content/drive/MyDrive/FinalProject/h3.6m'\n",
        "\n",
        "valid_dataset = Human36(path, d_mode = 'valid', seed_length = 10, prediction_length = 10)\n",
        "train_dataset = valid_dataset #Human36(path, d_mode = 'train', seed_length = 10, prediction_length = 10)\n",
        "test_dataset = valid_dataset #Human36(path, d_mode = 'test', seed_length = 10, prediction_length = 10)"
      ],
      "metadata": {
        "id": "fePR4IZgJ2Ou"
      },
      "execution_count": 4,
      "outputs": []
    },
    {
      "cell_type": "code",
      "source": [
        "import torch.utils.data as data\n",
        "\n",
        "valid_dataset = data.Subset(valid_dataset, range(100))\n",
        "train_dataset = data.Subset(train_dataset, range(100))\n",
        "test_dataset = data.Subset(test_dataset, range(100))\n",
        "\n",
        "print(test_dataset.__len__())\n",
        "print(valid_dataset.__len__())\n",
        "print(train_dataset.__len__())"
      ],
      "metadata": {
        "colab": {
          "base_uri": "https://localhost:8080/"
        },
        "id": "87NFTJaaKf1Q",
        "outputId": "addc981a-1c9a-4cc4-c670-d0753bbe974a"
      },
      "execution_count": 5,
      "outputs": [
        {
          "output_type": "stream",
          "name": "stdout",
          "text": [
            "100\n",
            "100\n",
            "100\n"
          ]
        }
      ]
    },
    {
      "cell_type": "code",
      "source": [
        "item = valid_dataset.__getitem__(0)\n",
        "\n",
        "print(item[0].shape)\n",
        "print(item[1].shape)"
      ],
      "metadata": {
        "colab": {
          "base_uri": "https://localhost:8080/"
        },
        "id": "WyhW0jCIPsfZ",
        "outputId": "2bfe4345-b309-496a-f397-f053354bcf28"
      },
      "execution_count": 6,
      "outputs": [
        {
          "output_type": "stream",
          "name": "stdout",
          "text": [
            "torch.Size([10, 99])\n",
            "torch.Size([10, 99])\n"
          ]
        }
      ]
    },
    {
      "cell_type": "code",
      "source": [
        "from torch.utils.data import DataLoader\n",
        "\n",
        "train_loader = DataLoader(train_dataset, batch_size=32, shuffle=True)\n",
        "valid_loader = DataLoader(valid_dataset, batch_size=32, shuffle=True)\n",
        "test_loader = DataLoader(test_dataset, batch_size=32, shuffle=True)"
      ],
      "metadata": {
        "id": "COsnWCVDK8pe"
      },
      "execution_count": 7,
      "outputs": []
    },
    {
      "cell_type": "markdown",
      "source": [
        "### Init Model"
      ],
      "metadata": {
        "id": "NyMfn-3ZLVT2"
      }
    },
    {
      "cell_type": "code",
      "source": [
        "motionmixer = MotionMixerCNN(input_size_spatial = 99,\n",
        "               input_size_temporal = 10,\n",
        "               embedding_size = 64,\n",
        "               n_block = 3,\n",
        "               n_output = 10,\n",
        "               n_temp_layers = 2,\n",
        "               n_spatial_layers = 2,\n",
        "               temp_kernel_size = 5,\n",
        "               spatial_kernel_size = 15)\n",
        "\n",
        "print(f\"The model has {model_params(motionmixer)} parameter.\")"
      ],
      "metadata": {
        "colab": {
          "base_uri": "https://localhost:8080/"
        },
        "id": "BYs8_kiZLQMG",
        "outputId": "a17e9eb8-c769-41d9-cef2-dac4a8a9631b"
      },
      "execution_count": 8,
      "outputs": [
        {
          "output_type": "stream",
          "name": "stdout",
          "text": [
            "The model has 13965 parameter.\n"
          ]
        }
      ]
    },
    {
      "cell_type": "markdown",
      "source": [
        "# Trainer"
      ],
      "metadata": {
        "id": "rjkZaBt-MAtT"
      }
    },
    {
      "cell_type": "code",
      "source": [
        "import os\n",
        "import shutil\n",
        "from torch.utils.tensorboard import SummaryWriter\n",
        "\n",
        "TBOARD_LOGS = os.path.join(os.getcwd(), \"tboard_logs\", \"motionMixer\")\n",
        "if not os.path.exists(TBOARD_LOGS):\n",
        "    os.makedirs(TBOARD_LOGS)\n",
        "\n",
        "shutil.rmtree(TBOARD_LOGS)\n",
        "writer = SummaryWriter(TBOARD_LOGS)"
      ],
      "metadata": {
        "id": "OzQzl52TNUwo"
      },
      "execution_count": 9,
      "outputs": []
    },
    {
      "cell_type": "code",
      "source": [
        "SAVE_PATH = '/content/test'\n",
        "\n",
        "from utils.train import Trainer\n",
        "\n",
        "trainer = Trainer(model = motionmixer,\n",
        "                    NUM_EPOCHS  = 100,\n",
        "                    train_loader = train_loader,\n",
        "                    valid_loader = test_loader,\n",
        "                    EVAL_FREQ = 2,\n",
        "                    SAVE_FREQ = 1,\n",
        "                    savepath = SAVE_PATH,\n",
        "                    writer = writer,\n",
        "                    lr = 2e-3,\n",
        "                    gamma = 0.1,\n",
        "                    step_size = 5,\n",
        "                    loadpath = None)"
      ],
      "metadata": {
        "id": "oPA3uDGcMkLQ"
      },
      "execution_count": 10,
      "outputs": []
    },
    {
      "cell_type": "code",
      "source": [
        "stats, model =  trainer.train()"
      ],
      "metadata": {
        "colab": {
          "base_uri": "https://localhost:8080/"
        },
        "id": "i0Z8HGYNQabQ",
        "outputId": "0063bbd5-12f6-4ec4-a704-4a532a3f0507"
      },
      "execution_count": 11,
      "outputs": [
        {
          "output_type": "stream",
          "name": "stderr",
          "text": [
            "Ep 100: Iter 4/4: Loss=nan: 100%|██████████| 100/100 [00:22<00:00,  4.36it/s]\n"
          ]
        }
      ]
    }
  ]
}